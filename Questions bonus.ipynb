{
 "cells": [
  {
   "cell_type": "code",
   "execution_count": 1,
   "metadata": {},
   "outputs": [],
   "source": [
    "import pandas as pd\n",
    "from imblearn.over_sampling import SMOTENC \n",
    "from sklearn .preprocessing import OneHotEncoder\n",
    "from sklearn .preprocessing import OrdinalEncoder\n",
    "from sklearn.ensemble import RandomForestClassifier\n",
    "from sklearn.model_selection import train_test_split\n",
    "import time"
   ]
  },
  {
   "cell_type": "code",
   "execution_count": 2,
   "metadata": {},
   "outputs": [],
   "source": [
    "data = pd.read_csv(\"Titanic.csv\",sep=\";\")"
   ]
  },
  {
   "cell_type": "code",
   "execution_count": 3,
   "metadata": {},
   "outputs": [],
   "source": [
    "data = data.drop(columns=[\"Name\",\"Ticket\"])"
   ]
  },
  {
   "cell_type": "code",
   "execution_count": 4,
   "metadata": {},
   "outputs": [],
   "source": [
    "data[\"Cabin\"] = data[\"Cabin\"].fillna(0)\n",
    "data = data.dropna()"
   ]
  },
  {
   "cell_type": "code",
   "execution_count": 5,
   "metadata": {},
   "outputs": [],
   "source": [
    "data = data.astype({\"Cabin\": str})"
   ]
  },
  {
   "cell_type": "code",
   "execution_count": 6,
   "metadata": {},
   "outputs": [],
   "source": [
    "cible = data[\"Survived\"]\n",
    "data = data.drop(columns = \"Survived\" )"
   ]
  },
  {
   "cell_type": "code",
   "execution_count": 8,
   "metadata": {},
   "outputs": [],
   "source": [
    "encoder = OrdinalEncoder()\n",
    "data[\"Sex\"] = encoder.fit_transform(data[\"Sex\"].values.reshape(-1,1))\n",
    "data[\"Cabin\"] = encoder.fit_transform(data[\"Cabin\"].values.reshape(-1,1))\n",
    "data[\"Embarked\"] = encoder.fit_transform(data[\"Embarked\"].values.reshape(-1,1))"
   ]
  },
  {
   "cell_type": "code",
   "execution_count": 23,
   "metadata": {},
   "outputs": [],
   "source": [
    "def precision_arbre(nb):\n",
    "    X_train, X_test, y_train, y_test = train_test_split( data.values, cible, test_size=0.3, random_state=4)\n",
    "    model_foret = RandomForestClassifier(random_state = 33,n_estimators = nb)\n",
    "    model_foret.fit(X_train, y_train)\n",
    "    print(\"Precision pour \"+str(nb)+\" arbres\" + str(model_foret.score(X_test, y_test)))\n"
   ]
  },
  {
   "cell_type": "code",
   "execution_count": 24,
   "metadata": {},
   "outputs": [
    {
     "name": "stdout",
     "output_type": "stream",
     "text": [
      "Precision pour 1 arbres0.7757009345794392\n",
      "Precision pour 4 arbres0.7757009345794392\n",
      "Precision pour 8 arbres0.780373831775701\n",
      "Precision pour 20 arbres0.8037383177570093\n"
     ]
    }
   ],
   "source": [
    "nb_arbres = [1,4,8,20]\n",
    "for e in nb_arbres:\n",
    "    precision_arbre(e)"
   ]
  },
  {
   "cell_type": "raw",
   "metadata": {},
   "source": [
    "*créer un test pour voir les randomforest avec 1, 4, 8, 20 arbres ont une précision à l’arbre de décision\n",
    "*créer un test qui vérifie que pour une même profondeur, le randomforest ( avec 7 arbres par exemple) est plus précis qu’un arbre de décision de même profondeur\n"
   ]
  },
  {
   "cell_type": "code",
   "execution_count": null,
   "metadata": {},
   "outputs": [],
   "source": []
  }
 ],
 "metadata": {
  "kernelspec": {
   "display_name": "Python 3",
   "language": "python",
   "name": "python3"
  },
  "language_info": {
   "codemirror_mode": {
    "name": "ipython",
    "version": 3
   },
   "file_extension": ".py",
   "mimetype": "text/x-python",
   "name": "python",
   "nbconvert_exporter": "python",
   "pygments_lexer": "ipython3",
   "version": "3.7.4"
  }
 },
 "nbformat": 4,
 "nbformat_minor": 2
}
