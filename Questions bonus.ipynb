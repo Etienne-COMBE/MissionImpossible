{
 "cells": [
  {
   "cell_type": "code",
   "execution_count": 1,
   "metadata": {},
   "outputs": [],
   "source": [
    "import pandas as pd\n",
    "from imblearn.over_sampling import SMOTENC \n",
    "from sklearn .preprocessing import OneHotEncoder\n",
    "from sklearn .preprocessing import OrdinalEncoder\n",
    "from sklearn.ensemble import RandomForestClassifier\n",
    "from sklearn.model_selection import train_test_split\n",
    "import time"
   ]
  },
  {
   "cell_type": "code",
   "execution_count": 2,
   "metadata": {},
   "outputs": [],
   "source": [
    "data = pd.read_csv(\"Titanic.csv\",sep=\";\")\n"
   ]
  },
  {
   "cell_type": "code",
   "execution_count": 3,
   "metadata": {},
   "outputs": [],
   "source": [
    "#Nettoyage\n",
    "data = data.drop(columns=[\"Name\",\"Ticket\"])\n",
    "data[\"Cabin\"] = data[\"Cabin\"].fillna(0)\n",
    "data = data.dropna()\n",
    "data = data.astype({\"Cabin\": str})"
   ]
  },
  {
   "cell_type": "code",
   "execution_count": 4,
   "metadata": {},
   "outputs": [],
   "source": [
    "#Séparation cible\n",
    "cible = data[\"Survived\"]\n",
    "data = data.drop(columns = \"Survived\" )"
   ]
  },
  {
   "cell_type": "code",
   "execution_count": 5,
   "metadata": {},
   "outputs": [],
   "source": [
    "#Encodage \n",
    "encoder = OrdinalEncoder()\n",
    "data[\"Sex\"] = encoder.fit_transform(data[\"Sex\"].values.reshape(-1,1))\n",
    "data[\"Cabin\"] = encoder.fit_transform(data[\"Cabin\"].values.reshape(-1,1))\n",
    "data[\"Embarked\"] = encoder.fit_transform(data[\"Embarked\"].values.reshape(-1,1))"
   ]
  },
  {
   "cell_type": "code",
   "execution_count": 6,
   "metadata": {},
   "outputs": [],
   "source": [
    "def precision_arbre(nb):\n",
    "    X_train, X_test, y_train, y_test = train_test_split( data.values, cible, test_size=0.3, random_state=4)\n",
    "    model_foret = RandomForestClassifier(random_state = 33,n_estimators = nb)\n",
    "    model_foret.fit(X_train, y_train)\n",
    "    print(\"Precision pour \"+str(nb)+\" arbres: \" + str(model_foret.score(X_test, y_test)))\n"
   ]
  },
  {
   "cell_type": "code",
   "execution_count": 7,
   "metadata": {},
   "outputs": [],
   "source": [
    "#Test pour différent nombre arbres\n",
    "def nombre_arbres():\n",
    "    nb_arbres = [1,4,8,20]\n",
    "    for e in nb_arbres:\n",
    "        precision_arbre(e)\n",
    "    return precision_arbre(20)-precision_arbre(1)"
   ]
  },
  {
   "cell_type": "raw",
   "metadata": {},
   "source": [
    "*créer un test pour voir les randomforest avec 1, 4, 8, 20 arbres ont une précision à l’arbre de décision\n",
    "*créer un test qui vérifie que pour une même profondeur, le randomforest ( avec 7 arbres par exemple) est plus précis qu’un arbre de décision de même profondeur\n"
   ]
  },
  {
   "cell_type": "code",
   "execution_count": 8,
   "metadata": {},
   "outputs": [],
   "source": [
    "def test_nombre_arbres():\n",
    "    assert nombre_arbres() > 0\n",
    "    \n"
   ]
  }
 ],
 "metadata": {
  "kernelspec": {
   "display_name": "Python 3",
   "language": "python",
   "name": "python3"
  },
  "language_info": {
   "codemirror_mode": {
    "name": "ipython",
    "version": 3
   },
   "file_extension": ".py",
   "mimetype": "text/x-python",
   "name": "python",
   "nbconvert_exporter": "python",
   "pygments_lexer": "ipython3",
   "version": "3.8.8"
  }
 },
 "nbformat": 4,
 "nbformat_minor": 2
}
