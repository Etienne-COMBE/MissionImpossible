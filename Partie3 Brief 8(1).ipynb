{
 "cells": [
  {
   "cell_type": "code",
   "execution_count": 1,
   "metadata": {},
   "outputs": [],
   "source": [
    "import pandas as pd\n",
    "from imblearn.over_sampling import SMOTENC \n",
    "from sklearn .preprocessing import OneHotEncoder\n",
    "from sklearn .preprocessing import OrdinalEncoder\n",
    "from sklearn.ensemble import RandomForestClassifier\n",
    "from sklearn.model_selection import train_test_split\n",
    "import time"
   ]
  },
  {
   "cell_type": "code",
   "execution_count": 2,
   "metadata": {},
   "outputs": [],
   "source": [
    "data = pd.read_csv(\"Titanic.csv\",sep=\";\")"
   ]
  },
  {
   "cell_type": "code",
   "execution_count": 3,
   "metadata": {},
   "outputs": [
    {
     "name": "stdout",
     "output_type": "stream",
     "text": [
      "     PassengerId  Survived  Pclass  \\\n",
      "0              1         0       3   \n",
      "1              2         1       1   \n",
      "2              3         1       3   \n",
      "3              4         1       1   \n",
      "4              5         0       3   \n",
      "..           ...       ...     ...   \n",
      "886          887         0       2   \n",
      "887          888         1       1   \n",
      "888          889         0       3   \n",
      "889          890         1       1   \n",
      "890          891         0       3   \n",
      "\n",
      "                                                  Name     Sex   Age  SibSp  \\\n",
      "0                              Braund, Mr. Owen Harris    male  22.0      1   \n",
      "1    Cumings, Mrs. John Bradley (Florence Briggs Th...  female  38.0      1   \n",
      "2                               Heikkinen, Miss. Laina  female  26.0      0   \n",
      "3         Futrelle, Mrs. Jacques Heath (Lily May Peel)  female  35.0      1   \n",
      "4                             Allen, Mr. William Henry    male  35.0      0   \n",
      "..                                                 ...     ...   ...    ...   \n",
      "886                              Montvila, Rev. Juozas    male  27.0      0   \n",
      "887                       Graham, Miss. Margaret Edith  female  19.0      0   \n",
      "888           Johnston, Miss. Catherine Helen \"Carrie\"  female   NaN      1   \n",
      "889                              Behr, Mr. Karl Howell    male  26.0      0   \n",
      "890                                Dooley, Mr. Patrick    male  32.0      0   \n",
      "\n",
      "     Parch            Ticket     Fare Cabin Embarked  \n",
      "0        0         A/5 21171   7.2500   NaN        S  \n",
      "1        0          PC 17599  71.2833   C85        C  \n",
      "2        0  STON/O2. 3101282   7.9250   NaN        S  \n",
      "3        0            113803  53.1000  C123        S  \n",
      "4        0            373450   8.0500   NaN        S  \n",
      "..     ...               ...      ...   ...      ...  \n",
      "886      0            211536  13.0000   NaN        S  \n",
      "887      0            112053  30.0000   B42        S  \n",
      "888      2        W./C. 6607  23.4500   NaN        S  \n",
      "889      0            111369  30.0000  C148        C  \n",
      "890      0            370376   7.7500   NaN        Q  \n",
      "\n",
      "[891 rows x 12 columns]\n"
     ]
    }
   ],
   "source": [
    "print(data)"
   ]
  },
  {
   "cell_type": "code",
   "execution_count": 4,
   "metadata": {},
   "outputs": [],
   "source": [
    "data = data.drop(columns=[\"Name\",\"Ticket\"])"
   ]
  },
  {
   "cell_type": "code",
   "execution_count": 5,
   "metadata": {},
   "outputs": [],
   "source": [
    "data[\"Cabin\"] = data[\"Cabin\"].fillna(0)\n",
    "data = data.dropna()"
   ]
  },
  {
   "cell_type": "code",
   "execution_count": 6,
   "metadata": {},
   "outputs": [],
   "source": [
    "data = data.astype({\"Cabin\": str})"
   ]
  },
  {
   "cell_type": "code",
   "execution_count": 7,
   "metadata": {},
   "outputs": [],
   "source": [
    "cible = data[\"Survived\"]\n",
    "data = data.drop(columns = \"Survived\" )"
   ]
  },
  {
   "cell_type": "code",
   "execution_count": 8,
   "metadata": {},
   "outputs": [],
   "source": [
    "nb_samples = {\n",
    "    0 : 1500,\n",
    "    1 : 1500 \n",
    "}"
   ]
  },
  {
   "cell_type": "code",
   "execution_count": 9,
   "metadata": {},
   "outputs": [],
   "source": [
    "\n",
    "sm = SMOTENC(random_state=33,sampling_strategy=nb_samples,categorical_features=[3,5,8])"
   ]
  },
  {
   "cell_type": "code",
   "execution_count": 10,
   "metadata": {},
   "outputs": [],
   "source": [
    "#encoder = OneHotEncoder()\n",
    "#data = encoder.fit_transform(data.values.reshape(-1,1))"
   ]
  },
  {
   "cell_type": "code",
   "execution_count": 11,
   "metadata": {},
   "outputs": [],
   "source": [
    "encoder = OrdinalEncoder()\n",
    "data[\"Sex\"] = encoder.fit_transform(data[\"Sex\"].values.reshape(-1,1))\n",
    "data[\"Cabin\"] = encoder.fit_transform(data[\"Cabin\"].values.reshape(-1,1))\n",
    "data[\"Embarked\"] = encoder.fit_transform(data[\"Embarked\"].values.reshape(-1,1))\n"
   ]
  },
  {
   "cell_type": "markdown",
   "metadata": {},
   "source": [
    "# Précision avant ingestion de nouvelles données"
   ]
  },
  {
   "cell_type": "code",
   "execution_count": 12,
   "metadata": {},
   "outputs": [
    {
     "name": "stdout",
     "output_type": "stream",
     "text": [
      "Temp d'entrainement: 0.10671377182006836 seconds \n",
      "score test :  0.8271028037383178\n"
     ]
    }
   ],
   "source": [
    "X_train, X_test, y_train, y_test = train_test_split( data.values, cible, test_size=0.3, random_state=4)\n",
    "\n",
    "model_foret = RandomForestClassifier(random_state = 33 )\n",
    "start_time = time.time()\n",
    "model_foret.fit(X_train, y_train)\n",
    "print(\"Temp d'entrainement: %s seconds \" % (time.time() - start_time))\n",
    "\n",
    "\n",
    "print(\"score test : \",model_foret.score(X_test, y_test))\n",
    "\n"
   ]
  },
  {
   "cell_type": "code",
   "execution_count": 13,
   "metadata": {},
   "outputs": [
    {
     "name": "stderr",
     "output_type": "stream",
     "text": [
      "C:\\Users\\philg\\Anaconda3\\lib\\site-packages\\imblearn\\utils\\_validation.py:300: UserWarning: After over-sampling, the number of samples (1500) in class 0 will be larger than the number of samples in the majority class (class #0 -> 424)\n",
      "  f\"After over-sampling, the number of samples ({n_samples})\"\n",
      "C:\\Users\\philg\\Anaconda3\\lib\\site-packages\\imblearn\\utils\\_validation.py:300: UserWarning: After over-sampling, the number of samples (1500) in class 1 will be larger than the number of samples in the majority class (class #0 -> 424)\n",
      "  f\"After over-sampling, the number of samples ({n_samples})\"\n"
     ]
    }
   ],
   "source": [
    "data = sm.fit_resample(data,cible)"
   ]
  },
  {
   "cell_type": "code",
   "execution_count": 14,
   "metadata": {},
   "outputs": [
    {
     "name": "stdout",
     "output_type": "stream",
     "text": [
      "0       0\n",
      "1       1\n",
      "2       1\n",
      "3       1\n",
      "4       0\n",
      "       ..\n",
      "2995    1\n",
      "2996    1\n",
      "2997    1\n",
      "2998    1\n",
      "2999    1\n",
      "Name: Survived, Length: 3000, dtype: int64\n",
      "      PassengerId  Pclass       Sex   Age  SibSp  Parch       Fare  \\\n",
      "0               1       3  1.000000  22.0      1      0   7.250000   \n",
      "1               2       1  0.000000  38.0      1      0  71.283300   \n",
      "2               3       3  0.000000  26.0      0      0   7.925000   \n",
      "3               4       1  0.000000  35.0      1      0  53.100000   \n",
      "4               5       3  1.000000  35.0      0      0   8.050000   \n",
      "...           ...     ...       ...   ...    ...    ...        ...   \n",
      "2995          700       1  0.389126  31.0      0      0  30.426969   \n",
      "2996          841       1  0.507218  16.0      0      1  19.614095   \n",
      "2997          360       1  0.562426  24.0      0      0  36.870321   \n",
      "2998          285       1  0.000000  30.0      0      0  79.424763   \n",
      "2999          534       1  0.000000  16.0      0      0  99.882794   \n",
      "\n",
      "           Cabin  Embarked  \n",
      "0       0.000000       2.0  \n",
      "1      73.000000       0.0  \n",
      "2       0.000000       2.0  \n",
      "3      49.000000       2.0  \n",
      "4       0.000000       2.0  \n",
      "...          ...       ...  \n",
      "2995    6.226012       2.0  \n",
      "2996  107.507218       2.0  \n",
      "2997  124.375739       2.0  \n",
      "2998   91.283543       0.0  \n",
      "2999    0.000000       2.0  \n",
      "\n",
      "[3000 rows x 9 columns]\n"
     ]
    }
   ],
   "source": [
    "X = data[0]\n",
    "y = data[1]\n",
    "print(y)\n",
    "print(X)"
   ]
  },
  {
   "cell_type": "markdown",
   "metadata": {},
   "source": [
    "# Précision après ingestion de nouvelles données"
   ]
  },
  {
   "cell_type": "code",
   "execution_count": 15,
   "metadata": {},
   "outputs": [
    {
     "name": "stdout",
     "output_type": "stream",
     "text": [
      "Temp d'entrainement: 0.23935794830322266 seconds \n",
      "score test :  0.8811111111111111\n"
     ]
    }
   ],
   "source": [
    "X_train, X_test, y_train, y_test = train_test_split( X.values, y, test_size=0.3, random_state=4)\n",
    "\n",
    "start_time = time.time()\n",
    "model_foret.fit(X_train, y_train)\n",
    "print(\"Temp d'entrainement: %s seconds \" % (time.time() - start_time))\n",
    "y_pred = model_foret.predict(X_test)\n",
    "print(\"score test : \",model_foret.score(X_test, y_test))\n",
    "\n"
   ]
  },
  {
   "cell_type": "code",
   "execution_count": null,
   "metadata": {},
   "outputs": [],
   "source": []
  }
 ],
 "metadata": {
  "kernelspec": {
   "display_name": "Python 3",
   "language": "python",
   "name": "python3"
  },
  "language_info": {
   "codemirror_mode": {
    "name": "ipython",
    "version": 3
   },
   "file_extension": ".py",
   "mimetype": "text/x-python",
   "name": "python",
   "nbconvert_exporter": "python",
   "pygments_lexer": "ipython3",
   "version": "3.7.4"
  }
 },
 "nbformat": 4,
 "nbformat_minor": 2
}
